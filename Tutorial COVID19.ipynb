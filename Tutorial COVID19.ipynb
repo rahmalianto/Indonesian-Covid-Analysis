{
 "cells": [
  {
   "cell_type": "markdown",
   "metadata": {},
   "source": [
    "# COVID 19 Analysis\n",
    "Tutorial from:\n",
    "https://towardsdatascience.com/gather-all-the-coronavirus-data-with-python-19aa22167dea"
   ]
  },
  {
   "cell_type": "code",
   "execution_count": 3,
   "metadata": {},
   "outputs": [],
   "source": [
    "import pandas as pd\n",
    "import json\n",
    "import OpenBlender\n",
    "import matplotlib as plt\n",
    "import wordcloud as wd"
   ]
  },
  {
   "cell_type": "code",
   "execution_count": 4,
   "metadata": {},
   "outputs": [
    {
     "name": "stdout",
     "output_type": "stream",
     "text": [
      "------------------------------------------------\n",
      "API call error: There are not enough processing units to complete this task. Please upgrade your account in https://www.openblender.io/ at $0.0001 USD/unit.\n",
      "------------------------------------------------\n",
      "\n",
      "{\"status\": \"internal error\", \"msg\": \"'bool' object is not subscriptable\"}\n"
     ]
    },
    {
     "ename": "TypeError",
     "evalue": "string indices must be integers",
     "output_type": "error",
     "traceback": [
      "\u001b[1;31m---------------------------------------------------------------------------\u001b[0m",
      "\u001b[1;31mTypeError\u001b[0m                                 Traceback (most recent call last)",
      "\u001b[1;32m<ipython-input-4-976525271982>\u001b[0m in \u001b[0;36m<module>\u001b[1;34m\u001b[0m\n\u001b[0;32m      9\u001b[0m }\n\u001b[0;32m     10\u001b[0m \u001b[1;33m\u001b[0m\u001b[0m\n\u001b[1;32m---> 11\u001b[1;33m \u001b[0mdf_confirmed\u001b[0m \u001b[1;33m=\u001b[0m \u001b[0mpd\u001b[0m\u001b[1;33m.\u001b[0m\u001b[0mread_json\u001b[0m\u001b[1;33m(\u001b[0m\u001b[0mjson\u001b[0m\u001b[1;33m.\u001b[0m\u001b[0mdumps\u001b[0m\u001b[1;33m(\u001b[0m\u001b[0mOpenBlender\u001b[0m\u001b[1;33m.\u001b[0m\u001b[0mcall\u001b[0m\u001b[1;33m(\u001b[0m\u001b[0maction\u001b[0m\u001b[1;33m,\u001b[0m \u001b[0mparameters\u001b[0m\u001b[1;33m)\u001b[0m\u001b[1;33m[\u001b[0m\u001b[1;34m'sample'\u001b[0m\u001b[1;33m]\u001b[0m\u001b[1;33m)\u001b[0m\u001b[1;33m,\u001b[0m \u001b[0mconvert_dates\u001b[0m\u001b[1;33m=\u001b[0m\u001b[1;32mFalse\u001b[0m\u001b[1;33m,\u001b[0m \u001b[0mconvert_axes\u001b[0m\u001b[1;33m=\u001b[0m\u001b[1;32mFalse\u001b[0m\u001b[1;33m)\u001b[0m\u001b[1;33m.\u001b[0m\u001b[0msort_values\u001b[0m\u001b[1;33m(\u001b[0m\u001b[1;34m'timestamp'\u001b[0m\u001b[1;33m,\u001b[0m \u001b[0mascending\u001b[0m\u001b[1;33m=\u001b[0m\u001b[1;32mFalse\u001b[0m\u001b[1;33m)\u001b[0m\u001b[1;33m\u001b[0m\u001b[1;33m\u001b[0m\u001b[0m\n\u001b[0m\u001b[0;32m     12\u001b[0m \u001b[0mdf_confirmed\u001b[0m\u001b[1;33m.\u001b[0m\u001b[0mreset_index\u001b[0m\u001b[1;33m(\u001b[0m\u001b[0mdrop\u001b[0m\u001b[1;33m=\u001b[0m\u001b[1;32mTrue\u001b[0m\u001b[1;33m,\u001b[0m \u001b[0minplace\u001b[0m\u001b[1;33m=\u001b[0m\u001b[1;32mTrue\u001b[0m\u001b[1;33m)\u001b[0m\u001b[1;33m\u001b[0m\u001b[1;33m\u001b[0m\u001b[0m\n\u001b[0;32m     13\u001b[0m \u001b[0mdf_confirmed\u001b[0m\u001b[1;33m.\u001b[0m\u001b[0mhead\u001b[0m\u001b[1;33m(\u001b[0m\u001b[1;36m10\u001b[0m\u001b[1;33m)\u001b[0m\u001b[1;33m\u001b[0m\u001b[1;33m\u001b[0m\u001b[0m\n",
      "\u001b[1;31mTypeError\u001b[0m: string indices must be integers"
     ]
    }
   ],
   "source": [
    "action = 'API_getObservationsFromDataset'\n",
    "parameters = { \n",
    " 'token':'5e6ea1dd9516292daf71ac66ogbVNNRpUukCzAOFOOclg5elaJX3ZC',\n",
    " 'id_dataset':'5e6ac97595162921fda18076',\n",
    " 'date_filter':{\n",
    "               \"start_date\":\"2020-01-01T06:00:00.000Z\",\n",
    "               \"end_date\":\"2020-03-11T06:00:00.000Z\"} ,\n",
    " \n",
    "}\n",
    "\n",
    "df_confirmed = pd.read_json(json.dumps(OpenBlender.call(action, parameters)['sample']), convert_dates=False, convert_axes=False).sort_values('timestamp', ascending=False)\n",
    "df_confirmed.reset_index(drop=True, inplace=True)\n",
    "df_confirmed.head(10)"
   ]
  },
  {
   "cell_type": "code",
   "execution_count": null,
   "metadata": {},
   "outputs": [],
   "source": [
    "action = 'API_getOpenTextData'\n",
    "parameters = {\n",
    "    'token':'5e6ea1dd9516292daf71ac66ogbVNNRpUukCzAOFOOclg5elaJX3ZC',\n",
    "    'date_filter':{\"start_date\":\"2020-01-01T06:00:00.000Z\", \n",
    "                   \"end_date\":\"2020-03-10T06:00:00.000Z\"},\n",
    "    'sources':[\n",
    "                # Wall Street Journal\n",
    "               {'id_dataset' : '5e2ef74e9516294390e810a9', \n",
    "                 'features' : ['text']},\n",
    "                # ABC News Headlines\n",
    "               {'id_dataset':\"5d8848e59516294231c59581\", \n",
    "                'features' : [\"headline\", \"title\"]},\n",
    "                # USA Today Twitter\n",
    "               {'id_dataset' : \"5e32fd289516291e346c1726\", \n",
    "                'features' : [\"text\"]},\n",
    "                # CNN News\n",
    "               {'id_dataset' : \"5d571b9e9516293a12ad4f5c\", \n",
    "                'features' : [\"headline\", \"title\"]}\n",
    "    ],\n",
    "    'aggregate_in_time_interval' : {\n",
    "              'time_interval_size' : 60 * 60 * 24\n",
    "    },\n",
    "    'text_filter_search':['covid', 'coronavirus', 'ncov']\n",
    "    \n",
    "}\n",
    "df = pd.read_json(json.dumps(OpenBlender.call(action, parameters)['sample']), convert_dates=False, convert_axes=False).sort_values('timestamp', ascending=False)\n",
    "df.reset_index(drop=True, inplace=True)"
   ]
  },
  {
   "cell_type": "code",
   "execution_count": null,
   "metadata": {},
   "outputs": [],
   "source": [
    "# Let's take a look\n",
    "df.head(20)"
   ]
  },
  {
   "cell_type": "code",
   "execution_count": null,
   "metadata": {},
   "outputs": [],
   "source": [
    "interest_countries = ['China', 'Iran', 'Korea', 'Italy', 'France', 'Germany', 'Spain']\n",
    "for country in interest_countries:\n",
    "    df['count_news_' + country] = [len([text for text in daily_lst if country.lower() in text]) for daily_lst in df['source_lst']]\n",
    "\n",
    "# df_news = pd.DataFrame()\n",
    "interest_countries = ['China', 'Iran', 'Korea', 'Italy', 'France', 'Germany', 'Spain']\n",
    "for country in interest_countries:\n",
    "    df_news['count_news_' + country] = [len([text for text in daily_lst if country.lower() in text]) for daily_lst in df_news['source_lst']]\n",
    "\n",
    "df_news.reindex(index=df_news.index[::-1]).plot(x = 'timestamp', y = [col for col in df_news.columns if 'count' in col], figsize=(17,7), kind='area')"
   ]
  },
  {
   "cell_type": "code",
   "execution_count": 5,
   "metadata": {},
   "outputs": [
    {
     "ename": "AttributeError",
     "evalue": "module 'matplotlib' has no attribute 'figure'",
     "output_type": "error",
     "traceback": [
      "\u001b[1;31m---------------------------------------------------------------------------\u001b[0m",
      "\u001b[1;31mAttributeError\u001b[0m                            Traceback (most recent call last)",
      "\u001b[1;32m<ipython-input-5-730884e68c26>\u001b[0m in \u001b[0;36m<module>\u001b[1;34m\u001b[0m\n\u001b[1;32m----> 1\u001b[1;33m \u001b[0mplt\u001b[0m\u001b[1;33m.\u001b[0m\u001b[0mfigure\u001b[0m\u001b[1;33m(\u001b[0m\u001b[1;33m)\u001b[0m\u001b[1;33m\u001b[0m\u001b[1;33m\u001b[0m\u001b[0m\n\u001b[0m\u001b[0;32m      2\u001b[0m \u001b[0mplt\u001b[0m\u001b[1;33m.\u001b[0m\u001b[0mimshow\u001b[0m\u001b[1;33m(\u001b[0m\u001b[0mWordCloud\u001b[0m\u001b[1;33m(\u001b[0m\u001b[0mmax_font_size\u001b[0m\u001b[1;33m=\u001b[0m\u001b[1;36m50\u001b[0m\u001b[1;33m,\u001b[0m \u001b[0mmax_words\u001b[0m\u001b[1;33m=\u001b[0m\u001b[1;36m80\u001b[0m\u001b[1;33m,\u001b[0m \u001b[0mbackground_color\u001b[0m\u001b[1;33m=\u001b[0m\u001b[1;34m\"white\"\u001b[0m\u001b[1;33m)\u001b[0m\u001b[1;33m.\u001b[0m\u001b[0mgenerate\u001b[0m\u001b[1;33m(\u001b[0m\u001b[1;34m' '\u001b[0m\u001b[1;33m.\u001b[0m\u001b[0mjoin\u001b[0m\u001b[1;33m(\u001b[0m\u001b[1;33m[\u001b[0m\u001b[0mval\u001b[0m \u001b[1;32mfor\u001b[0m \u001b[0mval\u001b[0m \u001b[1;32min\u001b[0m \u001b[0mdf\u001b[0m\u001b[1;33m[\u001b[0m\u001b[1;34m'source'\u001b[0m\u001b[1;33m]\u001b[0m\u001b[1;33m[\u001b[0m\u001b[1;36m0\u001b[0m\u001b[1;33m:\u001b[0m \u001b[1;36m20\u001b[0m\u001b[1;33m]\u001b[0m\u001b[1;33m]\u001b[0m\u001b[1;33m)\u001b[0m\u001b[1;33m)\u001b[0m\u001b[1;33m,\u001b[0m \u001b[0minterpolation\u001b[0m\u001b[1;33m=\u001b[0m\u001b[1;34m\"bilinear\"\u001b[0m\u001b[1;33m)\u001b[0m\u001b[1;33m\u001b[0m\u001b[1;33m\u001b[0m\u001b[0m\n\u001b[0;32m      3\u001b[0m \u001b[0mplt\u001b[0m\u001b[1;33m.\u001b[0m\u001b[0maxis\u001b[0m\u001b[1;33m(\u001b[0m\u001b[1;34m\"off\"\u001b[0m\u001b[1;33m)\u001b[0m\u001b[1;33m\u001b[0m\u001b[1;33m\u001b[0m\u001b[0m\n\u001b[0;32m      4\u001b[0m \u001b[0mplt\u001b[0m\u001b[1;33m.\u001b[0m\u001b[0mshow\u001b[0m\u001b[1;33m(\u001b[0m\u001b[1;33m)\u001b[0m\u001b[1;33m\u001b[0m\u001b[1;33m\u001b[0m\u001b[0m\n",
      "\u001b[1;31mAttributeError\u001b[0m: module 'matplotlib' has no attribute 'figure'"
     ]
    }
   ],
   "source": [
    "plt.figure()\n",
    "plt.imshow(WordCloud(max_font_size=50, max_words=80, background_color=\"white\").generate(' '.join([val for val in df['source'][0: 20]])), interpolation=\"bilinear\")\n",
    "plt.axis(\"off\")\n",
    "plt.show()"
   ]
  },
  {
   "cell_type": "code",
   "execution_count": null,
   "metadata": {},
   "outputs": [],
   "source": [
    "action = 'API_getObservationsFromDataset'\n",
    "        \n",
    "parameters = {\n",
    " 'token':'YOUR_TOKEN_HERE',\n",
    " 'id_dataset':'5d4c14cd9516290b01c7d673',\n",
    " 'aggregate_in_time_interval':{\"output\":\"avg\",\"empty_intervals\":\"impute\",\"time_interval_size\":86400},\n",
    " 'blends':[\n",
    "        #Yen vs USD              \n",
    "{\"id_blend\":\"5d2495169516290b5fd2cee3\",\"restriction\":\"None\",\"blend_type\":\"ts\",\"drop_features\":[]},\n",
    "        # Euro Vs USD\n",
    "{\"id_blend\":\"5d4b3af1951629707cc1116b\",\"restriction\":\"None\",\"blend_type\":\"ts\",\"drop_features\":[]},\n",
    "        # Pound Vs USD              \n",
    "{\"id_blend\":\"5d4b3be1951629707cc11341\",\"restriction\":\"None\",\"blend_type\":\"ts\",\"drop_features\":[]},\n",
    "        # Corn Price    \n",
    "{\"id_blend\":\"5d4c23b39516290b01c7feea\",\"restriction\":\"None\",\"blend_type\":\"ts\",\"drop_features\":[]},\n",
    "        # CocaCola Price     \n",
    "{\"id_blend\":\"5d4c72399516290b02fe7359\",\"restriction\":\"None\",\"blend_type\":\"ts\",\"drop_features\":[]},\n",
    "        # Platinum price             \n",
    "{\"id_blend\":\"5d4ca1049516290b02fee837\",\"restriction\":\"None\",\"blend_type\":\"ts\",\"drop_features\":[]},\n",
    "        # Tin Price\n",
    "{\"id_blend\":\"5d4caa429516290b01c9dff0\",\"restriction\":\"None\",\"blend_type\":\"ts\",\"drop_features\":[]},\n",
    "        # Crude Oil Price\n",
    "{\"id_blend\":\"5d4c80bf9516290b01c8f6f9\",\"restriction\":\"None\",\"blend_type\":\"ts\",\"drop_features\":[]}],\n",
    " 'date_filter':{\"start_date\":\"2020-01-01T06:00:00.000Z\",\"end_date\":\"2020-03-10T06:00:00.000Z\"} \n",
    "}\n",
    "df = pd.read_json(json.dumps(OpenBlender.call(action, parameters)['sample']), convert_dates=False, convert_axes=False).sort_values('timestamp', ascending=False)\n",
    "df.reset_index(drop=True, inplace=True)\n",
    "df.shape()\n",
    "df.head()"
   ]
  },
  {
   "cell_type": "code",
   "execution_count": null,
   "metadata": {},
   "outputs": [],
   "source": [
    "# Lets compress all into the (0, 1) domain\n",
    "df_compress = df.dropna(0).select_dtypes(include=['int16', 'int32', 'int64', 'float16', 'float32', 'float64']).apply(lambda x: (x - x.min()) / (x.max() - x.min()))\n",
    "df_compress['timestamp'] = df['timestamp']\n",
    "# Now we select the columns that interest us\n",
    "cols_of_interest = ['timestamp', 'PLATINUM_PRICE_price', 'CRUDE_OIL_PRICE_price', 'COCACOLA_PRICE_price', 'open', 'CORN_PRICE_price', 'TIN_PRICE_price', 'PLATINUM_PRICE_price']\n",
    "df_compress = df_compress[cols_of_interest]\n",
    "df_compress.rename(columns={'open':'DOW_JONES_price'}, inplace=True)\n",
    "# An now let's plot them\n",
    "from matplotlib import pyplot as plt\n",
    "fig, ax = plt.subplots(figsize=(17,7))\n",
    "plt = df_compress.plot(x='timestamp', y =['PLATINUM_PRICE_price', 'CRUDE_OIL_PRICE_price', 'COCACOLA_PRICE_price', 'DOW_JONES_price', 'CORN_PRICE_price', 'TIN_PRICE_price', 'PLATINUM_PRICE_price'], ax=ax)"
   ]
  },
  {
   "cell_type": "code",
   "execution_count": null,
   "metadata": {},
   "outputs": [],
   "source": [
    "# First the News Dataset\n",
    "action = 'API_createDataset'\n",
    "parameters = { \n",
    " 'token':'YOUR_TOKEN_HERE',\n",
    " 'name':'Coronavirus News',\n",
    " 'description':'YOUR_DATASET_DESCRIPTION',\n",
    " 'visibility':'private',\n",
    " 'tags':[],\n",
    " 'insert_observations':'on',\n",
    "    'select_as_timestamp' : 'timestamp',\n",
    " 'dataframe':df_news.to_json() \n",
    "}\n",
    "        \n",
    "OpenBlender.call(action, parameters)"
   ]
  },
  {
   "cell_type": "code",
   "execution_count": null,
   "metadata": {},
   "outputs": [],
   "source": [
    "# And now the Financial Indicators\n",
    "action = 'API_createDataset'\n",
    "parameters = { \n",
    " 'token':'YOUR_TOKEN_HERE',\n",
    " 'name':'Financial Indicators for COVID',\n",
    " 'description':'YOUR_DATASET_DESCRIPTION',\n",
    " 'visibility':'private',\n",
    " 'tags':[],\n",
    " 'insert_observations':'on',\n",
    " 'select_as_timestamp' : 'timestamp',\n",
    " 'dataframe':df_compress.to_json() \n",
    "}\n",
    "        \n",
    "OpenBlender.call(action, parameters)"
   ]
  },
  {
   "cell_type": "code",
   "execution_count": null,
   "metadata": {},
   "outputs": [],
   "source": [
    "action = 'API_getObservationsFromDataset'\n",
    "# ANCHOR: 'COVID19 Confirmed Cases'\n",
    "# BLENDS: 'Coronavirus News', 'Financial Indicators for COVID'\n",
    "        \n",
    "parameters = { \n",
    " 'token':'YOUR_TOKEN_HERE',\n",
    " 'id_dataset':'5e6ac97595162921fda18076',\n",
    " 'date_filter':{\n",
    "               \"start_date\":\"2020-01-01T06:00:00.000Z\",\n",
    "               \"end_date\":\"2020-03-11T06:00:00.000Z\"} ,\n",
    " \n",
    " },\n",
    "'filter_select' : {'feature' : 'countryregion', 'categories' : ['Italy']},\n",
    "'aggregate_in_time_interval':{\"output\":\"avg\",\"empty_intervals\":\"impute\",\"time_interval_size\":86400},\n",
    " 'blends':[{\"id_blend\":\"5e6b19ce95162921fda1b6a7\",\"restriction\":\"None\",\"blend_type\":\"ts\",\"drop_features\":[]},\n",
    "            {\"id_blend\":\"5e6b1aa095162921fda1b751\",\"restriction\":\"None\",\"blend_type\":\"ts\",\"drop_features\":[]}] \n",
    "}\n",
    "df = pd.read_json(json.dumps(OpenBlender.call(action, parameters)['sample']), convert_dates=False, convert_axes=False).sort_values('timestamp', ascending=False)\n",
    "df.reset_index(drop=True, inplace=True)\n",
    "df.head()"
   ]
  }
 ],
 "metadata": {
  "kernelspec": {
   "display_name": "Python 3",
   "language": "python",
   "name": "python3"
  },
  "language_info": {
   "codemirror_mode": {
    "name": "ipython",
    "version": 3
   },
   "file_extension": ".py",
   "mimetype": "text/x-python",
   "name": "python",
   "nbconvert_exporter": "python",
   "pygments_lexer": "ipython3",
   "version": "3.7.3"
  }
 },
 "nbformat": 4,
 "nbformat_minor": 2
}
